{
  "cells": [
    {
      "cell_type": "markdown",
      "source": [
        "#libraries"
      ],
      "metadata": {
        "id": "nmtIKgpooYHp"
      }
    },
    {
      "cell_type": "code",
      "execution_count": 2,
      "metadata": {
        "id": "DeOjkaclmApO"
      },
      "outputs": [],
      "source": [
        "# Import necessary libraries\n",
        "from sklearn.impute import SimpleImputer\n",
        "from sklearn.preprocessing import LabelEncoder\n",
        "import pandas as pd\n",
        "import numpy as np\n",
        "from sklearn.model_selection import train_test_split\n",
        "from sklearn.preprocessing import LabelEncoder, StandardScaler\n",
        "from sklearn.metrics import classification_report, accuracy_score, confusion_matrix, mean_squared_error\n",
        "from sklearn.ensemble import RandomForestClassifier, RandomForestRegressor\n",
        "from sklearn.neural_network import MLPClassifier, MLPRegressor\n",
        "from sklearn.svm import SVC, SVR\n",
        "import joblib\n",
        "from sklearn.decomposition import PCA\n",
        "import matplotlib.pyplot as plt\n",
        "import seaborn as sns\n"
      ]
    },
    {
      "cell_type": "code",
      "execution_count": 3,
      "metadata": {
        "colab": {
          "base_uri": "https://localhost:8080/"
        },
        "id": "RkDUUTtnhj4B",
        "outputId": "ed4e82c4-64e7-454a-b524-22b7f4196b37"
      },
      "outputs": [
        {
          "output_type": "stream",
          "name": "stdout",
          "text": [
            "Drive already mounted at /content/drive; to attempt to forcibly remount, call drive.mount(\"/content/drive\", force_remount=True).\n"
          ]
        }
      ],
      "source": [
        "from google.colab import drive\n",
        "\n",
        "drive.mount('/content/drive')"
      ]
    },
    {
      "cell_type": "markdown",
      "metadata": {
        "id": "9fJvNb3dhuOd"
      },
      "source": [
        "# Data Loading Section"
      ]
    },
    {
      "cell_type": "code",
      "execution_count": 4,
      "metadata": {
        "id": "JlBsQ6iMorwA"
      },
      "outputs": [],
      "source": [
        "#Load training and test datasets. Replace 'train_data.csv' and 'test_data.csv' with actual file paths.\n",
        "train_data = pd.read_csv('/content/drive/My Drive/Train_data.csv')\n",
        "test_data = pd.read_csv('/content/drive/My Drive/Test_data.csv')"
      ]
    },
    {
      "cell_type": "code",
      "source": [],
      "metadata": {
        "id": "EFl8r0msqzGu"
      },
      "execution_count": 4,
      "outputs": []
    },
    {
      "cell_type": "code",
      "execution_count": 5,
      "metadata": {
        "colab": {
          "base_uri": "https://localhost:8080/"
        },
        "id": "4JWPKwO0pIdI",
        "outputId": "40d9833e-0d6e-483a-df00-5392d6263c06"
      },
      "outputs": [
        {
          "output_type": "stream",
          "name": "stdout",
          "text": [
            "<class 'pandas.core.frame.DataFrame'>\n",
            "RangeIndex: 25192 entries, 0 to 25191\n",
            "Data columns (total 42 columns):\n",
            " #   Column                       Non-Null Count  Dtype  \n",
            "---  ------                       --------------  -----  \n",
            " 0   duration                     25192 non-null  int64  \n",
            " 1   protocol_type                25192 non-null  object \n",
            " 2   service                      25192 non-null  object \n",
            " 3   flag                         25192 non-null  object \n",
            " 4   src_bytes                    25192 non-null  int64  \n",
            " 5   dst_bytes                    25192 non-null  int64  \n",
            " 6   land                         25192 non-null  int64  \n",
            " 7   wrong_fragment               25192 non-null  int64  \n",
            " 8   urgent                       25192 non-null  int64  \n",
            " 9   hot                          25192 non-null  int64  \n",
            " 10  num_failed_logins            25192 non-null  int64  \n",
            " 11  logged_in                    25192 non-null  int64  \n",
            " 12  num_compromised              25192 non-null  int64  \n",
            " 13  root_shell                   25192 non-null  int64  \n",
            " 14  su_attempted                 25192 non-null  int64  \n",
            " 15  num_root                     25192 non-null  int64  \n",
            " 16  num_file_creations           25192 non-null  int64  \n",
            " 17  num_shells                   25192 non-null  int64  \n",
            " 18  num_access_files             25192 non-null  int64  \n",
            " 19  num_outbound_cmds            25192 non-null  int64  \n",
            " 20  is_host_login                25192 non-null  int64  \n",
            " 21  is_guest_login               25192 non-null  int64  \n",
            " 22  count                        25192 non-null  int64  \n",
            " 23  srv_count                    25192 non-null  int64  \n",
            " 24  serror_rate                  25192 non-null  float64\n",
            " 25  srv_serror_rate              25192 non-null  float64\n",
            " 26  rerror_rate                  25192 non-null  float64\n",
            " 27  srv_rerror_rate              25192 non-null  float64\n",
            " 28  same_srv_rate                25192 non-null  float64\n",
            " 29  diff_srv_rate                25192 non-null  float64\n",
            " 30  srv_diff_host_rate           25192 non-null  float64\n",
            " 31  dst_host_count               25192 non-null  int64  \n",
            " 32  dst_host_srv_count           25192 non-null  int64  \n",
            " 33  dst_host_same_srv_rate       25192 non-null  float64\n",
            " 34  dst_host_diff_srv_rate       25192 non-null  float64\n",
            " 35  dst_host_same_src_port_rate  25192 non-null  float64\n",
            " 36  dst_host_srv_diff_host_rate  25192 non-null  float64\n",
            " 37  dst_host_serror_rate         25192 non-null  float64\n",
            " 38  dst_host_srv_serror_rate     25192 non-null  float64\n",
            " 39  dst_host_rerror_rate         25192 non-null  float64\n",
            " 40  dst_host_srv_rerror_rate     25192 non-null  float64\n",
            " 41  class                        25192 non-null  object \n",
            "dtypes: float64(15), int64(23), object(4)\n",
            "memory usage: 8.1+ MB\n"
          ]
        }
      ],
      "source": [
        "# Display basic info about the training data\n",
        "train_data.info()\n"
      ]
    },
    {
      "cell_type": "code",
      "execution_count": 6,
      "metadata": {
        "colab": {
          "base_uri": "https://localhost:8080/"
        },
        "id": "R3fyURs5bzKJ",
        "outputId": "18821852-8c08-4d0d-d09e-50246583bf16"
      },
      "outputs": [
        {
          "output_type": "stream",
          "name": "stdout",
          "text": [
            "<class 'pandas.core.frame.DataFrame'>\n",
            "RangeIndex: 22544 entries, 0 to 22543\n",
            "Data columns (total 41 columns):\n",
            " #   Column                       Non-Null Count  Dtype  \n",
            "---  ------                       --------------  -----  \n",
            " 0   duration                     22544 non-null  int64  \n",
            " 1   protocol_type                22544 non-null  object \n",
            " 2   service                      22544 non-null  object \n",
            " 3   flag                         22544 non-null  object \n",
            " 4   src_bytes                    22544 non-null  int64  \n",
            " 5   dst_bytes                    22544 non-null  int64  \n",
            " 6   land                         22544 non-null  int64  \n",
            " 7   wrong_fragment               22544 non-null  int64  \n",
            " 8   urgent                       22544 non-null  int64  \n",
            " 9   hot                          22544 non-null  int64  \n",
            " 10  num_failed_logins            22544 non-null  int64  \n",
            " 11  logged_in                    22544 non-null  int64  \n",
            " 12  num_compromised              22544 non-null  int64  \n",
            " 13  root_shell                   22544 non-null  int64  \n",
            " 14  su_attempted                 22544 non-null  int64  \n",
            " 15  num_root                     22544 non-null  int64  \n",
            " 16  num_file_creations           22544 non-null  int64  \n",
            " 17  num_shells                   22544 non-null  int64  \n",
            " 18  num_access_files             22544 non-null  int64  \n",
            " 19  num_outbound_cmds            22544 non-null  int64  \n",
            " 20  is_host_login                22544 non-null  int64  \n",
            " 21  is_guest_login               22544 non-null  int64  \n",
            " 22  count                        22544 non-null  int64  \n",
            " 23  srv_count                    22544 non-null  int64  \n",
            " 24  serror_rate                  22544 non-null  float64\n",
            " 25  srv_serror_rate              22544 non-null  float64\n",
            " 26  rerror_rate                  22544 non-null  float64\n",
            " 27  srv_rerror_rate              22544 non-null  float64\n",
            " 28  same_srv_rate                22544 non-null  float64\n",
            " 29  diff_srv_rate                22544 non-null  float64\n",
            " 30  srv_diff_host_rate           22544 non-null  float64\n",
            " 31  dst_host_count               22544 non-null  int64  \n",
            " 32  dst_host_srv_count           22544 non-null  int64  \n",
            " 33  dst_host_same_srv_rate       22544 non-null  float64\n",
            " 34  dst_host_diff_srv_rate       22544 non-null  float64\n",
            " 35  dst_host_same_src_port_rate  22544 non-null  float64\n",
            " 36  dst_host_srv_diff_host_rate  22544 non-null  float64\n",
            " 37  dst_host_serror_rate         22544 non-null  float64\n",
            " 38  dst_host_srv_serror_rate     22544 non-null  float64\n",
            " 39  dst_host_rerror_rate         22544 non-null  float64\n",
            " 40  dst_host_srv_rerror_rate     22544 non-null  float64\n",
            "dtypes: float64(15), int64(23), object(3)\n",
            "memory usage: 7.1+ MB\n"
          ]
        }
      ],
      "source": [
        "# Display basic info about the training data\n",
        "test_data.info()"
      ]
    },
    {
      "cell_type": "markdown",
      "source": [
        "#Exploratory Data Analysis"
      ],
      "metadata": {
        "id": "DsZLw3CEsks0"
      }
    },
    {
      "cell_type": "code",
      "source": [
        "# Basic statistics and visualization\n",
        "print(train_data.describe())\n",
        "\n"
      ],
      "metadata": {
        "colab": {
          "base_uri": "https://localhost:8080/"
        },
        "id": "ByFGVd9kshDg",
        "outputId": "f0842bab-4579-47a7-dbb4-591042a914cc"
      },
      "execution_count": 7,
      "outputs": [
        {
          "output_type": "stream",
          "name": "stdout",
          "text": [
            "           duration     src_bytes     dst_bytes          land  wrong_fragment  \\\n",
            "count  25192.000000  2.519200e+04  2.519200e+04  25192.000000    25192.000000   \n",
            "mean     305.054104  2.433063e+04  3.491847e+03      0.000079        0.023738   \n",
            "std     2686.555640  2.410805e+06  8.883072e+04      0.008910        0.260221   \n",
            "min        0.000000  0.000000e+00  0.000000e+00      0.000000        0.000000   \n",
            "25%        0.000000  0.000000e+00  0.000000e+00      0.000000        0.000000   \n",
            "50%        0.000000  4.400000e+01  0.000000e+00      0.000000        0.000000   \n",
            "75%        0.000000  2.790000e+02  5.302500e+02      0.000000        0.000000   \n",
            "max    42862.000000  3.817091e+08  5.151385e+06      1.000000        3.000000   \n",
            "\n",
            "            urgent           hot  num_failed_logins     logged_in  \\\n",
            "count  25192.00000  25192.000000       25192.000000  25192.000000   \n",
            "mean       0.00004      0.198039           0.001191      0.394768   \n",
            "std        0.00630      2.154202           0.045418      0.488811   \n",
            "min        0.00000      0.000000           0.000000      0.000000   \n",
            "25%        0.00000      0.000000           0.000000      0.000000   \n",
            "50%        0.00000      0.000000           0.000000      0.000000   \n",
            "75%        0.00000      0.000000           0.000000      1.000000   \n",
            "max        1.00000     77.000000           4.000000      1.000000   \n",
            "\n",
            "       num_compromised  ...  dst_host_count  dst_host_srv_count  \\\n",
            "count     25192.000000  ...    25192.000000        25192.000000   \n",
            "mean          0.227850  ...      182.532074          115.063036   \n",
            "std          10.417352  ...       98.993895          110.646850   \n",
            "min           0.000000  ...        0.000000            0.000000   \n",
            "25%           0.000000  ...       84.000000           10.000000   \n",
            "50%           0.000000  ...      255.000000           61.000000   \n",
            "75%           0.000000  ...      255.000000          255.000000   \n",
            "max         884.000000  ...      255.000000          255.000000   \n",
            "\n",
            "       dst_host_same_srv_rate  dst_host_diff_srv_rate  \\\n",
            "count            25192.000000            25192.000000   \n",
            "mean                 0.519791                0.082539   \n",
            "std                  0.448944                0.187191   \n",
            "min                  0.000000                0.000000   \n",
            "25%                  0.050000                0.000000   \n",
            "50%                  0.510000                0.030000   \n",
            "75%                  1.000000                0.070000   \n",
            "max                  1.000000                1.000000   \n",
            "\n",
            "       dst_host_same_src_port_rate  dst_host_srv_diff_host_rate  \\\n",
            "count                 25192.000000                 25192.000000   \n",
            "mean                      0.147453                     0.031844   \n",
            "std                       0.308367                     0.110575   \n",
            "min                       0.000000                     0.000000   \n",
            "25%                       0.000000                     0.000000   \n",
            "50%                       0.000000                     0.000000   \n",
            "75%                       0.060000                     0.020000   \n",
            "max                       1.000000                     1.000000   \n",
            "\n",
            "       dst_host_serror_rate  dst_host_srv_serror_rate  dst_host_rerror_rate  \\\n",
            "count          25192.000000              25192.000000          25192.000000   \n",
            "mean               0.285800                  0.279846              0.117800   \n",
            "std                0.445316                  0.446075              0.305869   \n",
            "min                0.000000                  0.000000              0.000000   \n",
            "25%                0.000000                  0.000000              0.000000   \n",
            "50%                0.000000                  0.000000              0.000000   \n",
            "75%                1.000000                  1.000000              0.000000   \n",
            "max                1.000000                  1.000000              1.000000   \n",
            "\n",
            "       dst_host_srv_rerror_rate  \n",
            "count              25192.000000  \n",
            "mean                   0.118769  \n",
            "std                    0.317333  \n",
            "min                    0.000000  \n",
            "25%                    0.000000  \n",
            "50%                    0.000000  \n",
            "75%                    0.000000  \n",
            "max                    1.000000  \n",
            "\n",
            "[8 rows x 38 columns]\n"
          ]
        }
      ]
    },
    {
      "cell_type": "markdown",
      "metadata": {
        "id": "C4a04Muph3xi"
      },
      "source": [
        "# Task Identification"
      ]
    },
    {
      "cell_type": "code",
      "execution_count": 8,
      "metadata": {
        "colab": {
          "base_uri": "https://localhost:8080/"
        },
        "id": "InED2UYSiZP8",
        "outputId": "861a751f-67ed-4f24-eaab-5fa9ab60017f"
      },
      "outputs": [
        {
          "output_type": "stream",
          "name": "stdout",
          "text": [
            "0     normal\n",
            "1     normal\n",
            "2    anomaly\n",
            "3     normal\n",
            "4     normal\n",
            "Name: class, dtype: object\n",
            "['normal' 'anomaly']\n"
          ]
        }
      ],
      "source": [
        "# Display the first few values of the target column to identify the type of task\n",
        "print(train_data[\"class\"].head())\n",
        "\n",
        "# Display unique values of the target column to understand the problem better\n",
        "print(train_data[\"class\"].unique())"
      ]
    },
    {
      "cell_type": "code",
      "execution_count": 9,
      "metadata": {
        "id": "VEoWIpQlbOti"
      },
      "outputs": [],
      "source": [
        "# Function to identify whether the task is classification or regression based on the target column\n",
        "def identify_task(train_data, target_column):\n",
        "    \"\"\"\n",
        "    Identifies the type of task (classification or regression) based on the target column.\n",
        "    If the number of unique values in the target column is less than or equal to 10, it is classified as a classification task.\n",
        "    \"\"\"\n",
        "    if train_data[target_column].nunique() <= 10:\n",
        "        return \"classification\"\n",
        "    return \"regression\""
      ]
    },
    {
      "cell_type": "code",
      "execution_count": 10,
      "metadata": {
        "colab": {
          "base_uri": "https://localhost:8080/"
        },
        "id": "JVSDL8hMiuTC",
        "outputId": "95b647fb-d534-43cf-9909-ebe991562ba4"
      },
      "outputs": [
        {
          "output_type": "stream",
          "name": "stdout",
          "text": [
            "Identified Task: classification\n"
          ]
        }
      ],
      "source": [
        "# Define the target column and identify the task type\n",
        "target_column = \"class\"\n",
        "task_type = identify_task(train_data, target_column)\n",
        "print(f\"Identified Task: {task_type}\")\n"
      ]
    },
    {
      "cell_type": "markdown",
      "metadata": {
        "id": "URG4-PYImcCk"
      },
      "source": [
        "# Feature Preprocessing"
      ]
    },
    {
      "cell_type": "code",
      "execution_count": 11,
      "metadata": {
        "colab": {
          "base_uri": "https://localhost:8080/"
        },
        "id": "yxj9685hmTz7",
        "outputId": "8bd413a0-2c86-4542-d3d3-30ba29f6d419"
      },
      "outputs": [
        {
          "output_type": "stream",
          "name": "stdout",
          "text": [
            "Categorical Columns: ['protocol_type', 'service', 'flag']\n"
          ]
        }
      ],
      "source": [
        "# Separate features and target, and identify categorical columns for encoding\n",
        "features = [col for col in train_data.columns if col != target_column]\n",
        "\n",
        "\n",
        "#categorical_columns = [col for col in train_data.select_dtypes(include=['object']).columns if col != target_column]\n",
        "categorical_columns = train_data.select_dtypes(include=['object']).columns\n",
        "categorical_columns = [col for col in categorical_columns if col != target_column]\n",
        "print(\"Categorical Columns:\", categorical_columns)\n",
        "\n",
        "\n"
      ]
    },
    {
      "cell_type": "code",
      "execution_count": 12,
      "metadata": {
        "colab": {
          "base_uri": "https://localhost:8080/",
          "height": 443
        },
        "id": "hQNFE5CMmpzt",
        "outputId": "e099b702-51fd-4f53-b59f-03fe52579687"
      },
      "outputs": [
        {
          "output_type": "execute_result",
          "data": {
            "text/plain": [
              "       duration  protocol_type  service  flag  src_bytes  dst_bytes  land  \\\n",
              "0             0              1       46     1          0          0     0   \n",
              "1             0              1       46     1          0          0     0   \n",
              "2             2              1       19     9      12983          0     0   \n",
              "3             0              0       13     9         20          0     0   \n",
              "4             1              1       57     2          0         15     0   \n",
              "...         ...            ...      ...   ...        ...        ...   ...   \n",
              "22539         0              1       51     9        794        333     0   \n",
              "22540         0              1       22     9        317        938     0   \n",
              "22541         0              1       22     9      54540       8314     0   \n",
              "22542         0              2       11     9         42         42     0   \n",
              "22543         0              1       54     1          0          0     0   \n",
              "\n",
              "       wrong_fragment  urgent  hot  ...  dst_host_count  dst_host_srv_count  \\\n",
              "0                   0       0    0  ...             255                  10   \n",
              "1                   0       0    0  ...             255                   1   \n",
              "2                   0       0    0  ...             134                  86   \n",
              "3                   0       0    0  ...               3                  57   \n",
              "4                   0       0    0  ...              29                  86   \n",
              "...               ...     ...  ...  ...             ...                 ...   \n",
              "22539               0       0    0  ...             100                 141   \n",
              "22540               0       0    0  ...             197                 255   \n",
              "22541               0       0    2  ...             255                 255   \n",
              "22542               0       0    0  ...             255                 252   \n",
              "22543               0       0    0  ...             255                  21   \n",
              "\n",
              "       dst_host_same_srv_rate  dst_host_diff_srv_rate  \\\n",
              "0                        0.04                    0.06   \n",
              "1                        0.00                    0.06   \n",
              "2                        0.61                    0.04   \n",
              "3                        1.00                    0.00   \n",
              "4                        0.31                    0.17   \n",
              "...                       ...                     ...   \n",
              "22539                    0.72                    0.06   \n",
              "22540                    1.00                    0.00   \n",
              "22541                    1.00                    0.00   \n",
              "22542                    0.99                    0.01   \n",
              "22543                    0.08                    0.03   \n",
              "\n",
              "       dst_host_same_src_port_rate  dst_host_srv_diff_host_rate  \\\n",
              "0                             0.00                         0.00   \n",
              "1                             0.00                         0.00   \n",
              "2                             0.61                         0.02   \n",
              "3                             1.00                         0.28   \n",
              "4                             0.03                         0.02   \n",
              "...                            ...                          ...   \n",
              "22539                         0.01                         0.01   \n",
              "22540                         0.01                         0.01   \n",
              "22541                         0.00                         0.00   \n",
              "22542                         0.00                         0.00   \n",
              "22543                         0.00                         0.00   \n",
              "\n",
              "       dst_host_serror_rate  dst_host_srv_serror_rate  dst_host_rerror_rate  \\\n",
              "0                      0.00                       0.0                  1.00   \n",
              "1                      0.00                       0.0                  1.00   \n",
              "2                      0.00                       0.0                  0.00   \n",
              "3                      0.00                       0.0                  0.00   \n",
              "4                      0.00                       0.0                  0.83   \n",
              "...                     ...                       ...                   ...   \n",
              "22539                  0.01                       0.0                  0.00   \n",
              "22540                  0.01                       0.0                  0.00   \n",
              "22541                  0.00                       0.0                  0.07   \n",
              "22542                  0.00                       0.0                  0.00   \n",
              "22543                  0.00                       0.0                  0.44   \n",
              "\n",
              "       dst_host_srv_rerror_rate  \n",
              "0                          1.00  \n",
              "1                          1.00  \n",
              "2                          0.00  \n",
              "3                          0.00  \n",
              "4                          0.71  \n",
              "...                         ...  \n",
              "22539                      0.00  \n",
              "22540                      0.00  \n",
              "22541                      0.07  \n",
              "22542                      0.00  \n",
              "22543                      1.00  \n",
              "\n",
              "[22544 rows x 41 columns]"
            ],
            "text/html": [
              "\n",
              "  <div id=\"df-413cde67-22a8-4680-b75a-dca270e54972\" class=\"colab-df-container\">\n",
              "    <div>\n",
              "<style scoped>\n",
              "    .dataframe tbody tr th:only-of-type {\n",
              "        vertical-align: middle;\n",
              "    }\n",
              "\n",
              "    .dataframe tbody tr th {\n",
              "        vertical-align: top;\n",
              "    }\n",
              "\n",
              "    .dataframe thead th {\n",
              "        text-align: right;\n",
              "    }\n",
              "</style>\n",
              "<table border=\"1\" class=\"dataframe\">\n",
              "  <thead>\n",
              "    <tr style=\"text-align: right;\">\n",
              "      <th></th>\n",
              "      <th>duration</th>\n",
              "      <th>protocol_type</th>\n",
              "      <th>service</th>\n",
              "      <th>flag</th>\n",
              "      <th>src_bytes</th>\n",
              "      <th>dst_bytes</th>\n",
              "      <th>land</th>\n",
              "      <th>wrong_fragment</th>\n",
              "      <th>urgent</th>\n",
              "      <th>hot</th>\n",
              "      <th>...</th>\n",
              "      <th>dst_host_count</th>\n",
              "      <th>dst_host_srv_count</th>\n",
              "      <th>dst_host_same_srv_rate</th>\n",
              "      <th>dst_host_diff_srv_rate</th>\n",
              "      <th>dst_host_same_src_port_rate</th>\n",
              "      <th>dst_host_srv_diff_host_rate</th>\n",
              "      <th>dst_host_serror_rate</th>\n",
              "      <th>dst_host_srv_serror_rate</th>\n",
              "      <th>dst_host_rerror_rate</th>\n",
              "      <th>dst_host_srv_rerror_rate</th>\n",
              "    </tr>\n",
              "  </thead>\n",
              "  <tbody>\n",
              "    <tr>\n",
              "      <th>0</th>\n",
              "      <td>0</td>\n",
              "      <td>1</td>\n",
              "      <td>46</td>\n",
              "      <td>1</td>\n",
              "      <td>0</td>\n",
              "      <td>0</td>\n",
              "      <td>0</td>\n",
              "      <td>0</td>\n",
              "      <td>0</td>\n",
              "      <td>0</td>\n",
              "      <td>...</td>\n",
              "      <td>255</td>\n",
              "      <td>10</td>\n",
              "      <td>0.04</td>\n",
              "      <td>0.06</td>\n",
              "      <td>0.00</td>\n",
              "      <td>0.00</td>\n",
              "      <td>0.00</td>\n",
              "      <td>0.0</td>\n",
              "      <td>1.00</td>\n",
              "      <td>1.00</td>\n",
              "    </tr>\n",
              "    <tr>\n",
              "      <th>1</th>\n",
              "      <td>0</td>\n",
              "      <td>1</td>\n",
              "      <td>46</td>\n",
              "      <td>1</td>\n",
              "      <td>0</td>\n",
              "      <td>0</td>\n",
              "      <td>0</td>\n",
              "      <td>0</td>\n",
              "      <td>0</td>\n",
              "      <td>0</td>\n",
              "      <td>...</td>\n",
              "      <td>255</td>\n",
              "      <td>1</td>\n",
              "      <td>0.00</td>\n",
              "      <td>0.06</td>\n",
              "      <td>0.00</td>\n",
              "      <td>0.00</td>\n",
              "      <td>0.00</td>\n",
              "      <td>0.0</td>\n",
              "      <td>1.00</td>\n",
              "      <td>1.00</td>\n",
              "    </tr>\n",
              "    <tr>\n",
              "      <th>2</th>\n",
              "      <td>2</td>\n",
              "      <td>1</td>\n",
              "      <td>19</td>\n",
              "      <td>9</td>\n",
              "      <td>12983</td>\n",
              "      <td>0</td>\n",
              "      <td>0</td>\n",
              "      <td>0</td>\n",
              "      <td>0</td>\n",
              "      <td>0</td>\n",
              "      <td>...</td>\n",
              "      <td>134</td>\n",
              "      <td>86</td>\n",
              "      <td>0.61</td>\n",
              "      <td>0.04</td>\n",
              "      <td>0.61</td>\n",
              "      <td>0.02</td>\n",
              "      <td>0.00</td>\n",
              "      <td>0.0</td>\n",
              "      <td>0.00</td>\n",
              "      <td>0.00</td>\n",
              "    </tr>\n",
              "    <tr>\n",
              "      <th>3</th>\n",
              "      <td>0</td>\n",
              "      <td>0</td>\n",
              "      <td>13</td>\n",
              "      <td>9</td>\n",
              "      <td>20</td>\n",
              "      <td>0</td>\n",
              "      <td>0</td>\n",
              "      <td>0</td>\n",
              "      <td>0</td>\n",
              "      <td>0</td>\n",
              "      <td>...</td>\n",
              "      <td>3</td>\n",
              "      <td>57</td>\n",
              "      <td>1.00</td>\n",
              "      <td>0.00</td>\n",
              "      <td>1.00</td>\n",
              "      <td>0.28</td>\n",
              "      <td>0.00</td>\n",
              "      <td>0.0</td>\n",
              "      <td>0.00</td>\n",
              "      <td>0.00</td>\n",
              "    </tr>\n",
              "    <tr>\n",
              "      <th>4</th>\n",
              "      <td>1</td>\n",
              "      <td>1</td>\n",
              "      <td>57</td>\n",
              "      <td>2</td>\n",
              "      <td>0</td>\n",
              "      <td>15</td>\n",
              "      <td>0</td>\n",
              "      <td>0</td>\n",
              "      <td>0</td>\n",
              "      <td>0</td>\n",
              "      <td>...</td>\n",
              "      <td>29</td>\n",
              "      <td>86</td>\n",
              "      <td>0.31</td>\n",
              "      <td>0.17</td>\n",
              "      <td>0.03</td>\n",
              "      <td>0.02</td>\n",
              "      <td>0.00</td>\n",
              "      <td>0.0</td>\n",
              "      <td>0.83</td>\n",
              "      <td>0.71</td>\n",
              "    </tr>\n",
              "    <tr>\n",
              "      <th>...</th>\n",
              "      <td>...</td>\n",
              "      <td>...</td>\n",
              "      <td>...</td>\n",
              "      <td>...</td>\n",
              "      <td>...</td>\n",
              "      <td>...</td>\n",
              "      <td>...</td>\n",
              "      <td>...</td>\n",
              "      <td>...</td>\n",
              "      <td>...</td>\n",
              "      <td>...</td>\n",
              "      <td>...</td>\n",
              "      <td>...</td>\n",
              "      <td>...</td>\n",
              "      <td>...</td>\n",
              "      <td>...</td>\n",
              "      <td>...</td>\n",
              "      <td>...</td>\n",
              "      <td>...</td>\n",
              "      <td>...</td>\n",
              "      <td>...</td>\n",
              "    </tr>\n",
              "    <tr>\n",
              "      <th>22539</th>\n",
              "      <td>0</td>\n",
              "      <td>1</td>\n",
              "      <td>51</td>\n",
              "      <td>9</td>\n",
              "      <td>794</td>\n",
              "      <td>333</td>\n",
              "      <td>0</td>\n",
              "      <td>0</td>\n",
              "      <td>0</td>\n",
              "      <td>0</td>\n",
              "      <td>...</td>\n",
              "      <td>100</td>\n",
              "      <td>141</td>\n",
              "      <td>0.72</td>\n",
              "      <td>0.06</td>\n",
              "      <td>0.01</td>\n",
              "      <td>0.01</td>\n",
              "      <td>0.01</td>\n",
              "      <td>0.0</td>\n",
              "      <td>0.00</td>\n",
              "      <td>0.00</td>\n",
              "    </tr>\n",
              "    <tr>\n",
              "      <th>22540</th>\n",
              "      <td>0</td>\n",
              "      <td>1</td>\n",
              "      <td>22</td>\n",
              "      <td>9</td>\n",
              "      <td>317</td>\n",
              "      <td>938</td>\n",
              "      <td>0</td>\n",
              "      <td>0</td>\n",
              "      <td>0</td>\n",
              "      <td>0</td>\n",
              "      <td>...</td>\n",
              "      <td>197</td>\n",
              "      <td>255</td>\n",
              "      <td>1.00</td>\n",
              "      <td>0.00</td>\n",
              "      <td>0.01</td>\n",
              "      <td>0.01</td>\n",
              "      <td>0.01</td>\n",
              "      <td>0.0</td>\n",
              "      <td>0.00</td>\n",
              "      <td>0.00</td>\n",
              "    </tr>\n",
              "    <tr>\n",
              "      <th>22541</th>\n",
              "      <td>0</td>\n",
              "      <td>1</td>\n",
              "      <td>22</td>\n",
              "      <td>9</td>\n",
              "      <td>54540</td>\n",
              "      <td>8314</td>\n",
              "      <td>0</td>\n",
              "      <td>0</td>\n",
              "      <td>0</td>\n",
              "      <td>2</td>\n",
              "      <td>...</td>\n",
              "      <td>255</td>\n",
              "      <td>255</td>\n",
              "      <td>1.00</td>\n",
              "      <td>0.00</td>\n",
              "      <td>0.00</td>\n",
              "      <td>0.00</td>\n",
              "      <td>0.00</td>\n",
              "      <td>0.0</td>\n",
              "      <td>0.07</td>\n",
              "      <td>0.07</td>\n",
              "    </tr>\n",
              "    <tr>\n",
              "      <th>22542</th>\n",
              "      <td>0</td>\n",
              "      <td>2</td>\n",
              "      <td>11</td>\n",
              "      <td>9</td>\n",
              "      <td>42</td>\n",
              "      <td>42</td>\n",
              "      <td>0</td>\n",
              "      <td>0</td>\n",
              "      <td>0</td>\n",
              "      <td>0</td>\n",
              "      <td>...</td>\n",
              "      <td>255</td>\n",
              "      <td>252</td>\n",
              "      <td>0.99</td>\n",
              "      <td>0.01</td>\n",
              "      <td>0.00</td>\n",
              "      <td>0.00</td>\n",
              "      <td>0.00</td>\n",
              "      <td>0.0</td>\n",
              "      <td>0.00</td>\n",
              "      <td>0.00</td>\n",
              "    </tr>\n",
              "    <tr>\n",
              "      <th>22543</th>\n",
              "      <td>0</td>\n",
              "      <td>1</td>\n",
              "      <td>54</td>\n",
              "      <td>1</td>\n",
              "      <td>0</td>\n",
              "      <td>0</td>\n",
              "      <td>0</td>\n",
              "      <td>0</td>\n",
              "      <td>0</td>\n",
              "      <td>0</td>\n",
              "      <td>...</td>\n",
              "      <td>255</td>\n",
              "      <td>21</td>\n",
              "      <td>0.08</td>\n",
              "      <td>0.03</td>\n",
              "      <td>0.00</td>\n",
              "      <td>0.00</td>\n",
              "      <td>0.00</td>\n",
              "      <td>0.0</td>\n",
              "      <td>0.44</td>\n",
              "      <td>1.00</td>\n",
              "    </tr>\n",
              "  </tbody>\n",
              "</table>\n",
              "<p>22544 rows × 41 columns</p>\n",
              "</div>\n",
              "    <div class=\"colab-df-buttons\">\n",
              "\n",
              "  <div class=\"colab-df-container\">\n",
              "    <button class=\"colab-df-convert\" onclick=\"convertToInteractive('df-413cde67-22a8-4680-b75a-dca270e54972')\"\n",
              "            title=\"Convert this dataframe to an interactive table.\"\n",
              "            style=\"display:none;\">\n",
              "\n",
              "  <svg xmlns=\"http://www.w3.org/2000/svg\" height=\"24px\" viewBox=\"0 -960 960 960\">\n",
              "    <path d=\"M120-120v-720h720v720H120Zm60-500h600v-160H180v160Zm220 220h160v-160H400v160Zm0 220h160v-160H400v160ZM180-400h160v-160H180v160Zm440 0h160v-160H620v160ZM180-180h160v-160H180v160Zm440 0h160v-160H620v160Z\"/>\n",
              "  </svg>\n",
              "    </button>\n",
              "\n",
              "  <style>\n",
              "    .colab-df-container {\n",
              "      display:flex;\n",
              "      gap: 12px;\n",
              "    }\n",
              "\n",
              "    .colab-df-convert {\n",
              "      background-color: #E8F0FE;\n",
              "      border: none;\n",
              "      border-radius: 50%;\n",
              "      cursor: pointer;\n",
              "      display: none;\n",
              "      fill: #1967D2;\n",
              "      height: 32px;\n",
              "      padding: 0 0 0 0;\n",
              "      width: 32px;\n",
              "    }\n",
              "\n",
              "    .colab-df-convert:hover {\n",
              "      background-color: #E2EBFA;\n",
              "      box-shadow: 0px 1px 2px rgba(60, 64, 67, 0.3), 0px 1px 3px 1px rgba(60, 64, 67, 0.15);\n",
              "      fill: #174EA6;\n",
              "    }\n",
              "\n",
              "    .colab-df-buttons div {\n",
              "      margin-bottom: 4px;\n",
              "    }\n",
              "\n",
              "    [theme=dark] .colab-df-convert {\n",
              "      background-color: #3B4455;\n",
              "      fill: #D2E3FC;\n",
              "    }\n",
              "\n",
              "    [theme=dark] .colab-df-convert:hover {\n",
              "      background-color: #434B5C;\n",
              "      box-shadow: 0px 1px 3px 1px rgba(0, 0, 0, 0.15);\n",
              "      filter: drop-shadow(0px 1px 2px rgba(0, 0, 0, 0.3));\n",
              "      fill: #FFFFFF;\n",
              "    }\n",
              "  </style>\n",
              "\n",
              "    <script>\n",
              "      const buttonEl =\n",
              "        document.querySelector('#df-413cde67-22a8-4680-b75a-dca270e54972 button.colab-df-convert');\n",
              "      buttonEl.style.display =\n",
              "        google.colab.kernel.accessAllowed ? 'block' : 'none';\n",
              "\n",
              "      async function convertToInteractive(key) {\n",
              "        const element = document.querySelector('#df-413cde67-22a8-4680-b75a-dca270e54972');\n",
              "        const dataTable =\n",
              "          await google.colab.kernel.invokeFunction('convertToInteractive',\n",
              "                                                    [key], {});\n",
              "        if (!dataTable) return;\n",
              "\n",
              "        const docLinkHtml = 'Like what you see? Visit the ' +\n",
              "          '<a target=\"_blank\" href=https://colab.research.google.com/notebooks/data_table.ipynb>data table notebook</a>'\n",
              "          + ' to learn more about interactive tables.';\n",
              "        element.innerHTML = '';\n",
              "        dataTable['output_type'] = 'display_data';\n",
              "        await google.colab.output.renderOutput(dataTable, element);\n",
              "        const docLink = document.createElement('div');\n",
              "        docLink.innerHTML = docLinkHtml;\n",
              "        element.appendChild(docLink);\n",
              "      }\n",
              "    </script>\n",
              "  </div>\n",
              "\n",
              "\n",
              "<div id=\"df-23be2508-dd1c-4337-94e3-d9634f77f28b\">\n",
              "  <button class=\"colab-df-quickchart\" onclick=\"quickchart('df-23be2508-dd1c-4337-94e3-d9634f77f28b')\"\n",
              "            title=\"Suggest charts\"\n",
              "            style=\"display:none;\">\n",
              "\n",
              "<svg xmlns=\"http://www.w3.org/2000/svg\" height=\"24px\"viewBox=\"0 0 24 24\"\n",
              "     width=\"24px\">\n",
              "    <g>\n",
              "        <path d=\"M19 3H5c-1.1 0-2 .9-2 2v14c0 1.1.9 2 2 2h14c1.1 0 2-.9 2-2V5c0-1.1-.9-2-2-2zM9 17H7v-7h2v7zm4 0h-2V7h2v10zm4 0h-2v-4h2v4z\"/>\n",
              "    </g>\n",
              "</svg>\n",
              "  </button>\n",
              "\n",
              "<style>\n",
              "  .colab-df-quickchart {\n",
              "      --bg-color: #E8F0FE;\n",
              "      --fill-color: #1967D2;\n",
              "      --hover-bg-color: #E2EBFA;\n",
              "      --hover-fill-color: #174EA6;\n",
              "      --disabled-fill-color: #AAA;\n",
              "      --disabled-bg-color: #DDD;\n",
              "  }\n",
              "\n",
              "  [theme=dark] .colab-df-quickchart {\n",
              "      --bg-color: #3B4455;\n",
              "      --fill-color: #D2E3FC;\n",
              "      --hover-bg-color: #434B5C;\n",
              "      --hover-fill-color: #FFFFFF;\n",
              "      --disabled-bg-color: #3B4455;\n",
              "      --disabled-fill-color: #666;\n",
              "  }\n",
              "\n",
              "  .colab-df-quickchart {\n",
              "    background-color: var(--bg-color);\n",
              "    border: none;\n",
              "    border-radius: 50%;\n",
              "    cursor: pointer;\n",
              "    display: none;\n",
              "    fill: var(--fill-color);\n",
              "    height: 32px;\n",
              "    padding: 0;\n",
              "    width: 32px;\n",
              "  }\n",
              "\n",
              "  .colab-df-quickchart:hover {\n",
              "    background-color: var(--hover-bg-color);\n",
              "    box-shadow: 0 1px 2px rgba(60, 64, 67, 0.3), 0 1px 3px 1px rgba(60, 64, 67, 0.15);\n",
              "    fill: var(--button-hover-fill-color);\n",
              "  }\n",
              "\n",
              "  .colab-df-quickchart-complete:disabled,\n",
              "  .colab-df-quickchart-complete:disabled:hover {\n",
              "    background-color: var(--disabled-bg-color);\n",
              "    fill: var(--disabled-fill-color);\n",
              "    box-shadow: none;\n",
              "  }\n",
              "\n",
              "  .colab-df-spinner {\n",
              "    border: 2px solid var(--fill-color);\n",
              "    border-color: transparent;\n",
              "    border-bottom-color: var(--fill-color);\n",
              "    animation:\n",
              "      spin 1s steps(1) infinite;\n",
              "  }\n",
              "\n",
              "  @keyframes spin {\n",
              "    0% {\n",
              "      border-color: transparent;\n",
              "      border-bottom-color: var(--fill-color);\n",
              "      border-left-color: var(--fill-color);\n",
              "    }\n",
              "    20% {\n",
              "      border-color: transparent;\n",
              "      border-left-color: var(--fill-color);\n",
              "      border-top-color: var(--fill-color);\n",
              "    }\n",
              "    30% {\n",
              "      border-color: transparent;\n",
              "      border-left-color: var(--fill-color);\n",
              "      border-top-color: var(--fill-color);\n",
              "      border-right-color: var(--fill-color);\n",
              "    }\n",
              "    40% {\n",
              "      border-color: transparent;\n",
              "      border-right-color: var(--fill-color);\n",
              "      border-top-color: var(--fill-color);\n",
              "    }\n",
              "    60% {\n",
              "      border-color: transparent;\n",
              "      border-right-color: var(--fill-color);\n",
              "    }\n",
              "    80% {\n",
              "      border-color: transparent;\n",
              "      border-right-color: var(--fill-color);\n",
              "      border-bottom-color: var(--fill-color);\n",
              "    }\n",
              "    90% {\n",
              "      border-color: transparent;\n",
              "      border-bottom-color: var(--fill-color);\n",
              "    }\n",
              "  }\n",
              "</style>\n",
              "\n",
              "  <script>\n",
              "    async function quickchart(key) {\n",
              "      const quickchartButtonEl =\n",
              "        document.querySelector('#' + key + ' button');\n",
              "      quickchartButtonEl.disabled = true;  // To prevent multiple clicks.\n",
              "      quickchartButtonEl.classList.add('colab-df-spinner');\n",
              "      try {\n",
              "        const charts = await google.colab.kernel.invokeFunction(\n",
              "            'suggestCharts', [key], {});\n",
              "      } catch (error) {\n",
              "        console.error('Error during call to suggestCharts:', error);\n",
              "      }\n",
              "      quickchartButtonEl.classList.remove('colab-df-spinner');\n",
              "      quickchartButtonEl.classList.add('colab-df-quickchart-complete');\n",
              "    }\n",
              "    (() => {\n",
              "      let quickchartButtonEl =\n",
              "        document.querySelector('#df-23be2508-dd1c-4337-94e3-d9634f77f28b button');\n",
              "      quickchartButtonEl.style.display =\n",
              "        google.colab.kernel.accessAllowed ? 'block' : 'none';\n",
              "    })();\n",
              "  </script>\n",
              "</div>\n",
              "\n",
              "  <div id=\"id_de9135c5-e917-40d7-8864-886bfca3309c\">\n",
              "    <style>\n",
              "      .colab-df-generate {\n",
              "        background-color: #E8F0FE;\n",
              "        border: none;\n",
              "        border-radius: 50%;\n",
              "        cursor: pointer;\n",
              "        display: none;\n",
              "        fill: #1967D2;\n",
              "        height: 32px;\n",
              "        padding: 0 0 0 0;\n",
              "        width: 32px;\n",
              "      }\n",
              "\n",
              "      .colab-df-generate:hover {\n",
              "        background-color: #E2EBFA;\n",
              "        box-shadow: 0px 1px 2px rgba(60, 64, 67, 0.3), 0px 1px 3px 1px rgba(60, 64, 67, 0.15);\n",
              "        fill: #174EA6;\n",
              "      }\n",
              "\n",
              "      [theme=dark] .colab-df-generate {\n",
              "        background-color: #3B4455;\n",
              "        fill: #D2E3FC;\n",
              "      }\n",
              "\n",
              "      [theme=dark] .colab-df-generate:hover {\n",
              "        background-color: #434B5C;\n",
              "        box-shadow: 0px 1px 3px 1px rgba(0, 0, 0, 0.15);\n",
              "        filter: drop-shadow(0px 1px 2px rgba(0, 0, 0, 0.3));\n",
              "        fill: #FFFFFF;\n",
              "      }\n",
              "    </style>\n",
              "    <button class=\"colab-df-generate\" onclick=\"generateWithVariable('test_data')\"\n",
              "            title=\"Generate code using this dataframe.\"\n",
              "            style=\"display:none;\">\n",
              "\n",
              "  <svg xmlns=\"http://www.w3.org/2000/svg\" height=\"24px\"viewBox=\"0 0 24 24\"\n",
              "       width=\"24px\">\n",
              "    <path d=\"M7,19H8.4L18.45,9,17,7.55,7,17.6ZM5,21V16.75L18.45,3.32a2,2,0,0,1,2.83,0l1.4,1.43a1.91,1.91,0,0,1,.58,1.4,1.91,1.91,0,0,1-.58,1.4L9.25,21ZM18.45,9,17,7.55Zm-12,3A5.31,5.31,0,0,0,4.9,8.1,5.31,5.31,0,0,0,1,6.5,5.31,5.31,0,0,0,4.9,4.9,5.31,5.31,0,0,0,6.5,1,5.31,5.31,0,0,0,8.1,4.9,5.31,5.31,0,0,0,12,6.5,5.46,5.46,0,0,0,6.5,12Z\"/>\n",
              "  </svg>\n",
              "    </button>\n",
              "    <script>\n",
              "      (() => {\n",
              "      const buttonEl =\n",
              "        document.querySelector('#id_de9135c5-e917-40d7-8864-886bfca3309c button.colab-df-generate');\n",
              "      buttonEl.style.display =\n",
              "        google.colab.kernel.accessAllowed ? 'block' : 'none';\n",
              "\n",
              "      buttonEl.onclick = () => {\n",
              "        google.colab.notebook.generateWithVariable('test_data');\n",
              "      }\n",
              "      })();\n",
              "    </script>\n",
              "  </div>\n",
              "\n",
              "    </div>\n",
              "  </div>\n"
            ],
            "application/vnd.google.colaboratory.intrinsic+json": {
              "type": "dataframe",
              "variable_name": "test_data"
            }
          },
          "metadata": {},
          "execution_count": 12
        }
      ],
      "source": [
        "# Perform label encoding for categorical features\n",
        "\n",
        "encoder = LabelEncoder()\n",
        "if len(categorical_columns) > 0:\n",
        "    for column in categorical_columns:\n",
        "        combined_data = pd.concat([train_data[column], test_data[column]], axis=0)\n",
        "        # Fit the encoder on the combined data\n",
        "        encoder.fit(combined_data)\n",
        "\n",
        "        # Transform the train and test data\n",
        "        train_data[column] = encoder.transform(train_data[column])\n",
        "        test_data[column] = encoder.transform(test_data[column])\n",
        "\n",
        "numerical_columns = test_data.select_dtypes(include=['int64', 'float64']).columns\n",
        "for col in numerical_columns:\n",
        "    if not pd.api.types.is_numeric_dtype(test_data[col]):\n",
        "        print(f\"Column '{col}' contains non-numeric data. Converting or removing invalid entries...\")\n",
        "        # Convert non-numeric to NaN\n",
        "        test_data[col] = pd.to_numeric(test_data[col], errors='coerce')\n",
        "\n",
        "# Fill missing values introduced by non-numeric entries\n",
        "test_data[numerical_columns] = test_data[numerical_columns].fillna(test_data[numerical_columns].mean())\n",
        "\n",
        "\n",
        "test_data\n"
      ]
    },
    {
      "cell_type": "markdown",
      "metadata": {
        "id": "_imR5_44rS4p"
      },
      "source": [
        "# Data Splitting"
      ]
    },
    {
      "cell_type": "code",
      "execution_count": 13,
      "metadata": {
        "id": "7P71h3KAngoz"
      },
      "outputs": [],
      "source": [
        "# Split the training data into training and validation sets.\n",
        "\n",
        "X = train_data.drop('class', axis=1)\n",
        "y = train_data[target_column]\n",
        "X_train, X_val, y_train, y_val = train_test_split(X, y, test_size=0.2, random_state=42)\n"
      ]
    },
    {
      "cell_type": "markdown",
      "metadata": {
        "id": "BfP2QqZhYz4m"
      },
      "source": [
        "# Feature Scaling"
      ]
    },
    {
      "cell_type": "code",
      "execution_count": 14,
      "metadata": {
        "colab": {
          "base_uri": "https://localhost:8080/"
        },
        "id": "BvRQ4zt-rYBi",
        "outputId": "3a521501-c407-42a3-c972-e00d5f9abfd8"
      },
      "outputs": [
        {
          "output_type": "stream",
          "name": "stdout",
          "text": [
            "Index(['duration', 'protocol_type', 'service', 'flag', 'src_bytes',\n",
            "       'dst_bytes', 'land', 'wrong_fragment', 'urgent', 'hot',\n",
            "       'num_failed_logins', 'logged_in', 'num_compromised', 'root_shell',\n",
            "       'su_attempted', 'num_root', 'num_file_creations', 'num_shells',\n",
            "       'num_access_files', 'num_outbound_cmds', 'is_host_login',\n",
            "       'is_guest_login', 'count', 'srv_count', 'serror_rate',\n",
            "       'srv_serror_rate', 'rerror_rate', 'srv_rerror_rate', 'same_srv_rate',\n",
            "       'diff_srv_rate', 'srv_diff_host_rate', 'dst_host_count',\n",
            "       'dst_host_srv_count', 'dst_host_same_srv_rate',\n",
            "       'dst_host_diff_srv_rate', 'dst_host_same_src_port_rate',\n",
            "       'dst_host_srv_diff_host_rate', 'dst_host_serror_rate',\n",
            "       'dst_host_srv_serror_rate', 'dst_host_rerror_rate',\n",
            "       'dst_host_srv_rerror_rate'],\n",
            "      dtype='object')\n"
          ]
        }
      ],
      "source": [
        "# Standardize numerical features to improve model performance.\n",
        "scaler = StandardScaler()\n",
        "numerical_columns = train_data.select_dtypes(include=['int64', 'float64']).columns\n",
        "\n",
        "print(numerical_columns)\n",
        "for col in numerical_columns:\n",
        "    if not pd.api.types.is_numeric_dtype(X_train[col]):\n",
        "        print(f\"Column '{col}' contains non-numeric data. Converting or removing invalid entries...\")\n",
        "        # Convert non-numeric to NaN\n",
        "        X_train[col] = pd.to_numeric(X_train[col], errors='coerce')\n",
        "\n",
        "# Fill missing values introduced by non-numeric entries\n",
        "X_train[numerical_columns] = X_train[numerical_columns].fillna(X_train[numerical_columns].mean())\n",
        "\n",
        "\n",
        "X_train[numerical_columns] = scaler.fit_transform(X_train[numerical_columns])\n",
        "X_val[numerical_columns] = scaler.transform(X_val[numerical_columns])\n",
        "test_data[numerical_columns] = scaler.transform(test_data[numerical_columns])"
      ]
    },
    {
      "cell_type": "markdown",
      "metadata": {
        "id": "51sodtTbsK8_"
      },
      "source": [
        "# Baseline Performance"
      ]
    },
    {
      "cell_type": "code",
      "execution_count": 15,
      "metadata": {
        "colab": {
          "base_uri": "https://localhost:8080/"
        },
        "id": "Y95qOWY2Y5DS",
        "outputId": "d11abea7-d71a-4093-b3c6-c002f2f61f66"
      },
      "outputs": [
        {
          "output_type": "stream",
          "name": "stdout",
          "text": [
            "Baseline Accuracy: 0.5307\n"
          ]
        }
      ],
      "source": [
        "# Compute a baseline performance metric to compare models against.\n",
        "if task_type == \"classification\":\n",
        "    most_common_label = y_train.mode()[0]\n",
        "    baseline_predictions = [most_common_label] * len(y_val)\n",
        "    baseline_score = accuracy_score(y_val, baseline_predictions)\n",
        "    print(f\"Baseline Accuracy: {baseline_score:.4f}\")\n",
        "else:\n",
        "    baseline_prediction = y_train.mean()\n",
        "    baseline_predictions = [baseline_prediction] * len(y_val)\n",
        "    baseline_score = mean_squared_error(y_val, baseline_predictions, squared=False)\n",
        "    print(f\"Baseline RMSE: {baseline_score:.4f}\")"
      ]
    },
    {
      "cell_type": "markdown",
      "metadata": {
        "id": "Ml0FNGmesYJu"
      },
      "source": [
        "# Model Selection and Training"
      ]
    },
    {
      "cell_type": "code",
      "execution_count": 16,
      "metadata": {
        "id": "mdYAOAqPsdE3"
      },
      "outputs": [],
      "source": [
        "# Define models for classification and regression tasks.\n",
        "models = {\n",
        "    \"classification\": [\n",
        "        RandomForestClassifier(random_state=42),\n",
        "        SVC(random_state=42, probability=True),\n",
        "        MLPClassifier(random_state=42, max_iter=500)\n",
        "    ],\n",
        "    \"regression\": [\n",
        "        RandomForestRegressor(random_state=42),\n",
        "        SVR(),\n",
        "        MLPRegressor(random_state=42, max_iter=500)\n",
        "    ]\n",
        "}"
      ]
    },
    {
      "cell_type": "code",
      "execution_count": 17,
      "metadata": {
        "colab": {
          "base_uri": "https://localhost:8080/"
        },
        "id": "RMN95NnMsgZ0",
        "outputId": "31cf4947-6741-4b8f-dbff-c23c80c2e610"
      },
      "outputs": [
        {
          "output_type": "stream",
          "name": "stdout",
          "text": [
            "Model: RandomForestClassifier, Accuracy: 0.9978\n",
            "Model: SVC, Accuracy: 0.9903\n",
            "Model: MLPClassifier, Accuracy: 0.9940\n",
            "Best Model: RandomForestClassifier\n"
          ]
        }
      ],
      "source": [
        "# Train models and select the best-performing one based on validation performance.\n",
        "best_model = None\n",
        "best_score = float('-inf') if task_type == \"classification\" else float('inf')\n",
        "\n",
        "for model in models[task_type]:\n",
        "    model.fit(X_train, y_train)\n",
        "    y_val_pred = model.predict(X_val)\n",
        "\n",
        "    if task_type == \"classification\":\n",
        "        score = accuracy_score(y_val, y_val_pred)\n",
        "        print(f\"Model: {model.__class__.__name__}, Accuracy: {score:.4f}\")\n",
        "        if score > best_score:\n",
        "            best_score = score\n",
        "            best_model = model\n",
        "    else:\n",
        "        score = mean_squared_error(y_val, y_val_pred, squared=False)\n",
        "        print(f\"Model: {model.__class__.__name__}, RMSE: {score:.4f}\")\n",
        "        if score < best_score:\n",
        "            best_score = score\n",
        "            best_model = model\n",
        "\n",
        "print(f\"Best Model: {best_model.__class__.__name__}\")"
      ]
    },
    {
      "cell_type": "markdown",
      "source": [
        "Model evaluation"
      ],
      "metadata": {
        "id": "PHvHBWke5ETP"
      }
    },
    {
      "cell_type": "code",
      "source": [
        "from sklearn.metrics import confusion_matrix, ConfusionMatrixDisplay\n",
        "import matplotlib.pyplot as plt\n",
        "\n",
        "# Compute and display the confusion matrix\n",
        "conf_matrix = confusion_matrix(y_val, best_model.predict(X_val))\n",
        "disp = ConfusionMatrixDisplay(confusion_matrix=conf_matrix, display_labels=best_model.classes_)\n",
        "disp.plot(cmap=\"Blues\", values_format=\"d\")\n",
        "plt.title(\"Confusion Matrix\")\n",
        "plt.show()\n"
      ],
      "metadata": {
        "colab": {
          "base_uri": "https://localhost:8080/",
          "height": 472
        },
        "id": "wKS6ySg-_LBz",
        "outputId": "3f606d61-8a00-4cf0-e027-cdabc35a5d24"
      },
      "execution_count": 21,
      "outputs": [
        {
          "output_type": "display_data",
          "data": {
            "text/plain": [
              "<Figure size 640x480 with 2 Axes>"
            ],
            "image/png": "[encoded data removed]"
          },
          "metadata": {}
        }
      ]
    },
    {
      "cell_type": "code",
      "source": [
        "# Test Data Predictions\n",
        "# We predict on test data without a target column\n",
        "test_predictions = best_model.predict(test_data[features])\n",
        "\n",
        "# Save predictions for external evaluation\n",
        "output = pd.DataFrame({\"Id\": test_data.index, \"Predicted\": test_predictions})\n",
        "output.to_csv(\"test_predictions.csv\", index=False)\n",
        "print(\"Test predictions saved to 'test_predictions.csv'.\")"
      ],
      "metadata": {
        "colab": {
          "base_uri": "https://localhost:8080/"
        },
        "id": "Yyj10HJP4_mV",
        "outputId": "9b0d6ba5-a49a-4f2b-9dc4-6991a0b68d1b"
      },
      "execution_count": 18,
      "outputs": [
        {
          "output_type": "stream",
          "name": "stdout",
          "text": [
            "Test predictions saved to 'test_predictions.csv'.\n"
          ]
        }
      ]
    },
    {
      "cell_type": "markdown",
      "metadata": {
        "id": "bAg0U2rEsjqe"
      },
      "source": [
        "# Model Deployment"
      ]
    },
    {
      "cell_type": "code",
      "execution_count": 19,
      "metadata": {
        "id": "LAJDpIwbsrDe"
      },
      "outputs": [],
      "source": [
        "# Make predictions on the test dataset using the best model.\n",
        "test_predictions = best_model.predict(test_data)\n",
        "\n",
        "# Save predictions to a CSV file\n",
        "output = pd.DataFrame({\"Id\": test_data.index, \"Predicted\": test_predictions})\n",
        "output.to_csv(\"test_predictions.csv\", index=False)\n"
      ]
    },
    {
      "cell_type": "markdown",
      "metadata": {
        "id": "59m6iGoNsuFn"
      },
      "source": [
        "# Save Best Model"
      ]
    },
    {
      "cell_type": "code",
      "execution_count": 20,
      "metadata": {
        "colab": {
          "base_uri": "https://localhost:8080/"
        },
        "id": "nr2LwVy8sxZq",
        "outputId": "3e6eab02-9ca7-4698-9a8e-8cd5a9b729f2"
      },
      "outputs": [
        {
          "output_type": "execute_result",
          "data": {
            "text/plain": [
              "['best_model.pkl']"
            ]
          },
          "metadata": {},
          "execution_count": 20
        }
      ],
      "source": [
        "# Save the best model to a file for future use.\n",
        "joblib.dump(best_model, \"best_model.pkl\")"
      ]
    }
  ],
  "metadata": {
    "colab": {
      "provenance": []
    },
    "kernelspec": {
      "display_name": "Python 3",
      "name": "python3"
    },
    "language_info": {
      "name": "python"
    }
  },
  "nbformat": 4,
  "nbformat_minor": 0
}